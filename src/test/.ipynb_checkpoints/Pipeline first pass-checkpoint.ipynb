{
 "cells": [
  {
   "cell_type": "code",
   "execution_count": 1,
   "metadata": {
    "collapsed": true,
    "deletable": true,
    "editable": true
   },
   "outputs": [],
   "source": [
    "import yaml"
   ]
  },
  {
   "cell_type": "code",
   "execution_count": 2,
   "metadata": {
    "collapsed": false,
    "deletable": true,
    "editable": true
   },
   "outputs": [],
   "source": [
    "# klass options\n",
    "EXT = 'existential'\n",
    "CAT = 'categorical'\n",
    "NUM = 'numerical'\n",
    "\n",
    "# explanation options\n",
    "YES = 'yes'\n",
    "NO = 'no'\n",
    "OPT = 'opt'\n",
    "\n",
    "class Task(object):\n",
    "    def __init__(self,\n",
    "                 name,\n",
    "                 klass=EXT,\n",
    "                 explanation=OPT,\n",
    "                 **kwds):\n",
    "        self.name = name\n",
    "        self._klass = klass\n",
    "        self._explanation = explanation\n",
    "        \n",
    "        # must be lists/dicts of Task instances\n",
    "        self.parents = kwds.pop('parents', [])\n",
    "        self.interactions = kwds.pop('interactions', {})\n",
    "        self.properties = kwds.pop('properties', {})\n",
    "        \n",
    "        if self._klass == EXT:\n",
    "            self._values = [True, False]\n",
    "        elif self._klass == CAT:\n",
    "            self._values = kwds.pop('values', [])\n",
    "        elif self._klass == NUM:\n",
    "            raise NotImplementedError, \"Numerical tasks not yet implemented\"\n",
    "        else:\n",
    "            raise ValueError, \"Unknown task klass\"\n",
    "\n",
    "    @property\n",
    "    def klass(self):\n",
    "        return self._klass\n",
    "    \n",
    "    @klass.setter\n",
    "    def klass(self, val):\n",
    "        if val in (EXT, CAT, NUM):\n",
    "            self._klass = val\n",
    "        else:\n",
    "            print \"Invalid klass setting\"\n",
    "            \n",
    "    @property\n",
    "    def explanation(self):\n",
    "        return self._explanation\n",
    "    \n",
    "    @explanation.setter\n",
    "    def explanation(self, val):\n",
    "        if val in (YES, NO, OPT):\n",
    "            self._explanation = val\n",
    "        else:\n",
    "            print \"Invalid explanation setting\"\n",
    "            \n",
    "    @property\n",
    "    def values(self):\n",
    "        return self._values\n",
    "    \n",
    "    def __repr__(self):\n",
    "#         return self.name\n",
    "        s = 'Task: {}'.format(self.name)\n",
    "        s += '\\n Explanation: {}'.format(self.explanation)\n",
    "        s += '\\n Prereqs:'\n",
    "        if self.parents:\n",
    "            for parent in self.parents:\n",
    "                s += '\\n  '\n",
    "                if type(parent) is list:\n",
    "                    s += '[{}]'.format(\", \".join([str(p) for p in parent]))\n",
    "                else:\n",
    "                    s += str(parent)\n",
    "        else:\n",
    "            s += ' None'\n",
    "        s += '\\n Interactions:'\n",
    "        if self.interactions:\n",
    "            for rel, objs in self.interactions.items():\n",
    "                s += '\\n  {}: {}'.format(str(rel), \", \".join([str(obj) for obj in objs]))\n",
    "        else:\n",
    "            s += ' None'\n",
    "        s += '\\n Properties:'\n",
    "        if self.properties:\n",
    "            for prop, task in self.properties.items():\n",
    "                s += '\\n  {}: {}'.format(str(prop), \" | \".join([str(v) for v in task.values]))\n",
    "        else:\n",
    "            s += ' None'\n",
    "        return s\n",
    "        \n",
    "    def __str__(self):\n",
    "        return self.name"
   ]
  },
  {
   "cell_type": "code",
   "execution_count": 3,
   "metadata": {
    "collapsed": false,
    "deletable": true,
    "editable": true
   },
   "outputs": [
    {
     "name": "stdout",
     "output_type": "stream",
     "text": [
      "{'Person': {'Explanation': True, 'Properties': {'multiple': [True, False]}, 'Interactions': {'exhibited': 'Symptom'}}, 'Ate': {'Explanation': True, 'Requires': ['Person'], 'Interactions': {'when': 'Time', 'object': 'Food', 'where': ['Restaurant', 'Location'], 'subject': 'Person'}}, 'Location': {'Explanation': True}, 'Sick': {'Explanation': True, 'Requires': ['Person'], 'Properties': {'realis': ['real', 'hypothetical'], 'tense': ['past', 'present', 'future']}, 'Interactions': {'from': 'Ate', 'subject': 'Person'}}, 'Restaurant': {'Explanation': True, 'Interactions': {'at': 'Location'}}, 'Food': {'Explanation': True, 'Requires': ['Ate']}, 'Time': {'Explanation': True, 'Properties': {'type': ['relative', 'absolute']}}}\n"
     ]
    }
   ],
   "source": [
    "test_f = 'fp_task_spec.yaml'\n",
    "specs = yaml.load(open(test_f))\n",
    "print specs"
   ]
  },
  {
   "cell_type": "code",
   "execution_count": 4,
   "metadata": {
    "collapsed": false,
    "deletable": true,
    "editable": true
   },
   "outputs": [
    {
     "name": "stdout",
     "output_type": "stream",
     "text": [
      "New Task (object): Person\n",
      "New Task (property): multiple\n",
      "New Task (interaction): exhibited\n",
      "New Task (object): Symptom\n",
      "New Task (object): Ate\n",
      "New Task (interaction): when\n",
      "New Task (object): Time\n",
      "New Task (interaction): object\n",
      "New Task (object): Food\n",
      "New Task (interaction): where\n",
      "New Task (object): Restaurant\n",
      "New Task (object): Location\n",
      "New Task (interaction): subject\n",
      "Known Task (object): Person\n",
      "Known Task (object): Location\n",
      "New Task (object): Sick\n",
      "New Task (property): realis\n",
      "New Task (property): tense\n",
      "New Task (interaction): from\n",
      "Known Task (object): Ate\n",
      "Known Task (interaction): subject\n",
      "Known Task (object): Person\n",
      "Known Task (object): Restaurant\n",
      "New Task (interaction): at\n",
      "Known Task (object): Location\n",
      "Known Task (object): Food\n",
      "Known Task (object): Time\n",
      "New Task (property): type\n"
     ]
    }
   ],
   "source": [
    "tasks = {}\n",
    "# create all of the tasks\n",
    "for name, spec in specs.items():\n",
    "    if name in tasks:\n",
    "        task = tasks[name]\n",
    "        print \"Known Task (object): {}\".format(task.name)\n",
    "    else:\n",
    "        task = Task(name)\n",
    "        tasks[name] = task\n",
    "        print \"New Task (object): {}\".format(task.name)\n",
    "    \n",
    "    # set/override the explanation\n",
    "    if 'Explanation' in spec:\n",
    "        task.explanation = YES if spec['Explanation'] else NO\n",
    "\n",
    "    # make a task for each property of this task\n",
    "    if 'Properties' in spec:\n",
    "        assert type(spec['Properties']) is dict, \"Invalid property specification (must be a dict): {}:{}\".format(\n",
    "            name, spec['Properties'])\n",
    "        for prop_name, vals in spec['Properties'].items():\n",
    "            if prop_name in tasks:\n",
    "                prop_task = tasks[prop_name]\n",
    "                print \"Known Task (property): {}\".format(prop_name)\n",
    "                if vals != prop_task.values:\n",
    "                    raise ValueError, \"Refering to a known property with different values is not allowed: {}\".format(prop_name)\n",
    "            else:\n",
    "                prop_task = Task(prop_name, values=vals)\n",
    "                tasks[prop_name] = prop_task\n",
    "                print \"New Task (property): {}\".format(prop_name)\n",
    "            prop_task.parents.append(task)\n",
    "#             print \"Adding parent task {} to prop task {}\".format(str(task), str(prop_task))\n",
    "            task.properties[prop_name] = prop_task\n",
    "            \n",
    "    # make a task for each interaction and interaction constituent of this task\n",
    "    if 'Interactions' in spec:\n",
    "        assert type(spec['Interactions']) is dict, \"Invalid interaction specification (must be a dict): {}:{}\".format(\n",
    "            name, spec['Interactions'])\n",
    "        for interact_name, other_name in spec['Interactions'].items():  \n",
    "            # create the interaction\n",
    "            if interact_name in tasks:\n",
    "                interact_task = tasks[interact_name] \n",
    "                print \"Known Task (interaction): {}\".format(interact_name)\n",
    "            else:\n",
    "                interact_task = Task(interact_name)\n",
    "                tasks[interact_name] = interact_task\n",
    "                print \"New Task (interaction): {}\".format(interact_name)\n",
    "                \n",
    "            # create all constituents tasks of this interaction\n",
    "            if type(other_name) is list:\n",
    "                other_names = other_name\n",
    "                for other_name in other_names:\n",
    "                    if other_name in tasks:\n",
    "                        other_task = tasks[other_name]\n",
    "                        print \"Known Task (object): {}\".format(other_name)\n",
    "                    else:\n",
    "                        other_task = Task(other_name)\n",
    "                        tasks[other_name] = other_task\n",
    "                        print \"New Task (object): {}\".format(other_name)\n",
    "                    # add this pair to the interactions parent set\n",
    "                    interact_task.parents.append([task, other_task])\n",
    "#                     print \"adding parents {}, {} to interaction {}\".format(str(task), str(other_task), str(interact_task))\n",
    "                    # add this constituent task to the set of acceptable tasks in the interaction\n",
    "                    if interact_name in task.interactions:\n",
    "                        task.interactions[interact_name].append(other_task)\n",
    "                    else:\n",
    "                        task.interactions[interact_name] = [other_task]\n",
    "                    \n",
    "            else:\n",
    "                if other_name in tasks:\n",
    "                    other_task = tasks[other_name]\n",
    "                    print \"Known Task (object): {}\".format(other_name)\n",
    "                else:\n",
    "                    other_task = Task(other_name)\n",
    "                    tasks[other_name] = other_task\n",
    "                    print \"New Task (object): {}\".format(other_name)\n",
    "                interact_task.parents.append([task, other_task])\n",
    "#                 print \"adding parents {}, {} to interaction {}\".format(str(task), str(other_task), str(interact_task))\n"
   ]
  },
  {
   "cell_type": "code",
   "execution_count": 5,
   "metadata": {
    "collapsed": true,
    "deletable": true,
    "editable": true
   },
   "outputs": [],
   "source": [
    "# add any missing parents to tasks\n",
    "for name, spec in specs.items():\n",
    "    task = tasks[name]\n",
    "    if 'Requires' in spec:\n",
    "        for req in spec['Requires']:\n",
    "            if type(req) is list:\n",
    "                req = [tasks[r] for r in req]\n",
    "            else:\n",
    "                req = tasks[req]\n",
    "            if req not in task.parents:\n",
    "                task.parents.append(req)"
   ]
  },
  {
   "cell_type": "code",
   "execution_count": 8,
   "metadata": {
    "collapsed": false,
    "deletable": true,
    "editable": true
   },
   "outputs": [
    {
     "name": "stdout",
     "output_type": "stream",
     "text": [
      "**************************************************\n",
      "Task: Ate\n",
      " Explanation: yes\n",
      " Prereqs:\n",
      "  Person\n",
      " Interactions:\n",
      "  where: Restaurant, Location\n",
      " Properties: None\n",
      "**************************************************\n",
      "Task: multiple\n",
      " Explanation: opt\n",
      " Prereqs:\n",
      "  Person\n",
      " Interactions: None\n",
      " Properties: None\n",
      "**************************************************\n",
      "Task: Restaurant\n",
      " Explanation: yes\n",
      " Prereqs: None\n",
      " Interactions: None\n",
      " Properties: None\n",
      "**************************************************\n",
      "Task: Food\n",
      " Explanation: yes\n",
      " Prereqs:\n",
      "  Ate\n",
      " Interactions: None\n",
      " Properties: None\n",
      "**************************************************\n",
      "Task: type\n",
      " Explanation: opt\n",
      " Prereqs:\n",
      "  Time\n",
      " Interactions: None\n",
      " Properties: None\n",
      "**************************************************\n",
      "Task: object\n",
      " Explanation: opt\n",
      " Prereqs:\n",
      "  [Ate, Food]\n",
      " Interactions: None\n",
      " Properties: None\n",
      "**************************************************\n",
      "Task: when\n",
      " Explanation: opt\n",
      " Prereqs:\n",
      "  [Ate, Time]\n",
      " Interactions: None\n",
      " Properties: None\n",
      "**************************************************\n",
      "Task: Person\n",
      " Explanation: yes\n",
      " Prereqs: None\n",
      " Interactions: None\n",
      " Properties:\n",
      "  multiple: True | False\n",
      "**************************************************\n",
      "Task: tense\n",
      " Explanation: opt\n",
      " Prereqs:\n",
      "  Sick\n",
      " Interactions: None\n",
      " Properties: None\n",
      "**************************************************\n",
      "Task: Location\n",
      " Explanation: yes\n",
      " Prereqs: None\n",
      " Interactions: None\n",
      " Properties: None\n",
      "**************************************************\n",
      "Task: Sick\n",
      " Explanation: yes\n",
      " Prereqs:\n",
      "  Person\n",
      " Interactions: None\n",
      " Properties:\n",
      "  realis: True | False\n",
      "  tense: True | False\n",
      "**************************************************\n",
      "Task: Time\n",
      " Explanation: yes\n",
      " Prereqs: None\n",
      " Interactions: None\n",
      " Properties:\n",
      "  type: True | False\n",
      "**************************************************\n",
      "Task: at\n",
      " Explanation: opt\n",
      " Prereqs:\n",
      "  [Restaurant, Location]\n",
      " Interactions: None\n",
      " Properties: None\n",
      "**************************************************\n",
      "Task: from\n",
      " Explanation: opt\n",
      " Prereqs:\n",
      "  [Sick, Ate]\n",
      " Interactions: None\n",
      " Properties: None\n",
      "**************************************************\n",
      "Task: realis\n",
      " Explanation: opt\n",
      " Prereqs:\n",
      "  Sick\n",
      " Interactions: None\n",
      " Properties: None\n",
      "**************************************************\n",
      "Task: where\n",
      " Explanation: opt\n",
      " Prereqs:\n",
      "  [Ate, Restaurant]\n",
      "  [Ate, Location]\n",
      " Interactions: None\n",
      " Properties: None\n",
      "**************************************************\n",
      "Task: exhibited\n",
      " Explanation: opt\n",
      " Prereqs:\n",
      "  [Person, Symptom]\n",
      " Interactions: None\n",
      " Properties: None\n",
      "**************************************************\n",
      "Task: Symptom\n",
      " Explanation: opt\n",
      " Prereqs: None\n",
      " Interactions: None\n",
      " Properties: None\n",
      "**************************************************\n",
      "Task: subject\n",
      " Explanation: opt\n",
      " Prereqs:\n",
      "  [Ate, Person]\n",
      "  [Sick, Person]\n",
      " Interactions: None\n",
      " Properties: None\n"
     ]
    }
   ],
   "source": [
    "from pprint import pprint\n",
    "for name, task in tasks.items():\n",
    "    print '*'*50\n",
    "    pprint(task)"
   ]
  },
  {
   "cell_type": "code",
   "execution_count": 144,
   "metadata": {
    "collapsed": false,
    "deletable": true,
    "editable": true
   },
   "outputs": [],
   "source": [
    "from graphviz import Digraph\n",
    "import matplotlib.pyplot as plt\n",
    "%matplotlib inline\n",
    "import seaborn as sb\n",
    "sb.set_color_codes()\n",
    "from IPython.display import SVG\n",
    "\n",
    "class PDF(object):\n",
    "    def __init__(self, pdf, size=(200,200)):\n",
    "        self.pdf = pdf\n",
    "        self.size = size\n",
    "\n",
    "    def _repr_html_(self):\n",
    "        return '<iframe src={0} width={1[0]} height={1[1]}></iframe>'.format(self.pdf, self.size)\n",
    "\n",
    "    def _repr_latex_(self):\n",
    "        return r'\\includegraphics[width=1.0\\textwidth]{{{0}}}'.format(self.pdf)"
   ]
  },
  {
   "cell_type": "code",
   "execution_count": 214,
   "metadata": {
    "collapsed": false,
    "deletable": true,
    "editable": true
   },
   "outputs": [
    {
     "name": "stdout",
     "output_type": "stream",
     "text": [
      "['label=\"Legend\"', 'color=grey', 'style=filled', '\\te1 [label=\"ENTITY 1\" color=plum style=filled]', '\\te2 [label=\"ENTITY 2\" color=plum style=filled]', '\\tr1 [label=RELATION color=cadetblue style=filled]', '\\t\\te1 -> r1', '\\t\\te2 -> r1']\n"
     ]
    },
    {
     "data": {
      "text/plain": [
       "'pipeline.png'"
      ]
     },
     "execution_count": 214,
     "metadata": {},
     "output_type": "execute_result"
    }
   ],
   "source": [
    "G = Digraph(comment=\"Microtask Pipeline\", format=\"png\")\n",
    "for task in tasks:\n",
    "    # see if it's an entity or relation\n",
    "    color= 'cadetblue' if sum([type(parent) is list for parent in tasks[task].parents]) else 'plum'\n",
    "    G.node(task, task, style='filled', color=color)\n",
    "    for i, parent in enumerate(tasks[task].parents):\n",
    "        if type(parent) is list:\n",
    "            for p in parent:\n",
    "                G.edge(p.name, task)\n",
    "        else:\n",
    "            G.edge(parent.name, task)\n",
    "            \n",
    "L = Digraph('legend')\n",
    "# FOR SOME THE BODY RENDERING ISN'T WORKING...\n",
    "L.body.append('label=\"Legend\"')\n",
    "L.body.append('color=grey')\n",
    "L.body.append('style=filled')\n",
    "\n",
    "L.node('e1', 'ENTITY 1', style='filled', color='plum')\n",
    "L.node('e2', 'ENTITY 2', style='filled', color='plum')\n",
    "L.node('r1', 'RELATION', style='filled', color='cadetblue')\n",
    "L.edges([('e1', 'r1'), ('e2', 'r1')])\n",
    "print L.body\n",
    "G.subgraph(L)\n",
    "    \n",
    "G.render('pipeline')"
   ]
  },
  {
   "cell_type": "code",
   "execution_count": 218,
   "metadata": {
    "collapsed": false
   },
   "outputs": [
    {
     "data": {
      "text/html": [
       "<iframe src=pipeline.pdf width=900 height=310></iframe>"
      ],
      "text/latex": [
       "\\includegraphics[width=1.0\\textwidth]{pipeline.pdf}"
      ],
      "text/plain": [
       "<__main__.PDF at 0x11167a6d0>"
      ]
     },
     "execution_count": 218,
     "metadata": {},
     "output_type": "execute_result"
    }
   ],
   "source": [
    "PDF('pipeline.pdf',size=(900,310))"
   ]
  },
  {
   "cell_type": "code",
   "execution_count": 230,
   "metadata": {
    "collapsed": false
   },
   "outputs": [],
   "source": [
    "class KLASSES(object):\n",
    "    _EXT = 'EXISTENTIAL'\n",
    "    _CAT = 'CATEGORICAL'\n",
    "    \n",
    "    class __metaclass__(type):\n",
    "        @property\n",
    "        def EXT(cls):\n",
    "            return cls._EXT\n",
    "        @property\n",
    "        def EXISTENTIAL(cls):\n",
    "            return cls._EXT\n",
    "        \n",
    "        @property\n",
    "        def CAT(cls):\n",
    "            return cls._CAT\n",
    "        @property\n",
    "        def CATEGORICAL(cls):\n",
    "            return cls._CAT\n",
    "\n",
    "class EXPLANATIONS(object):\n",
    "    _MANDATORY = 'MANDATORY'\n",
    "    _NEVER = 'NEVER'\n",
    "    _OPTIONAL = 'OPTIONAL'\n",
    "    \n",
    "    class __metaclass__(type):\n",
    "        def Y(cls):\n",
    "            return cls._YES\n",
    "        @property\n",
    "        def YES(cls):\n",
    "            return cls._YES\n",
    "        @property\n",
    "        def MANDATORY(cls):\n",
    "            return cls._YES\n",
    "        \n",
    "        @property\n",
    "        def N(cls):\n",
    "            return cls._NO\n",
    "        \n",
    "        @property\n",
    "        def CATEGORICAL(cls):\n",
    "            return cls._CAT"
   ]
  },
  {
   "cell_type": "code",
   "execution_count": 234,
   "metadata": {
    "collapsed": false
   },
   "outputs": [
    {
     "data": {
      "text/plain": [
       "'yo'"
      ]
     },
     "execution_count": 234,
     "metadata": {},
     "output_type": "execute_result"
    }
   ],
   "source": [
    "klasses.EXTS = 'yo'\n",
    "klasses.EXTS"
   ]
  },
  {
   "cell_type": "code",
   "execution_count": null,
   "metadata": {
    "collapsed": true
   },
   "outputs": [],
   "source": []
  }
 ],
 "metadata": {
  "kernelspec": {
   "display_name": "Python 2",
   "language": "python",
   "name": "python2"
  },
  "language_info": {
   "codemirror_mode": {
    "name": "ipython",
    "version": 2
   },
   "file_extension": ".py",
   "mimetype": "text/x-python",
   "name": "python",
   "nbconvert_exporter": "python",
   "pygments_lexer": "ipython2",
   "version": "2.7.10"
  }
 },
 "nbformat": 4,
 "nbformat_minor": 2
}
